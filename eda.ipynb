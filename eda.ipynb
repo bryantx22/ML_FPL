{
 "cells": [
  {
   "cell_type": "code",
   "execution_count": 92,
   "metadata": {},
   "outputs": [],
   "source": [
    "import pandas as pd\n",
    "import numpy as np\n",
    "import matplotlib.pyplot as plt\n",
    "import seaborn as sns\n",
    "from sklearn.linear_model import LinearRegression"
   ]
  },
  {
   "cell_type": "code",
   "execution_count": 242,
   "metadata": {},
   "outputs": [],
   "source": [
    "def plot_line (xlab=\"\", ylab=\"\", title=\"\", x=[], y=[]):\n",
    "    plt.figure (dpi = 100)\n",
    "    plt.xlabel (xlab)\n",
    "    plt.ylabel (ylab)\n",
    "    plt.title (title)\n",
    "    plt.plot (x, y)\n",
    "    plt.show ()\n",
    "\n",
    "def plot_scatter (xlab=\"\", ylab=\"\", title=\"\", x=[], y=[], lbf=False, color=\"blue\", lbfcolor=\"blue\", annotate=False, annotations=[], dist=0.2):\n",
    "    plt.figure (dpi = 100)\n",
    "    plt.xlabel (xlab)\n",
    "    plt.ylabel (ylab)\n",
    "    plt.title (title)\n",
    "    plt.grid (True)\n",
    "    plt.scatter (x, y, marker=\".\", c=y, cmap=\"winter\")\n",
    "    if (lbf):\n",
    "        x = np.array (x).reshape (-1, 1)\n",
    "        y = np.array (y).reshape (-1, 1)\n",
    "        reg = LinearRegression ().fit (x, y)\n",
    "        y_pred = reg.predict (x)\n",
    "        icpt = reg.intercept_ [0]\n",
    "        slp = reg.coef_ [0][0]\n",
    "        plt.plot (x, y_pred, label=str(round(icpt, 4))+\"+\"+str(round(slp, 4))+\"x\", color=lbfcolor)\n",
    "        plt.legend()\n",
    "        \n",
    "    if (annotate):\n",
    "        for i in range(len(annotations)):\n",
    "            plt.annotate(annotations[i], (x[i], y[i] + dist), fontsize=8)\n",
    "    plt.show ()\n",
    "\n",
    "def R_squared (X, y):\n",
    "    X = np.array (X).reshape (-1, 1)\n",
    "    y = np.array (y).reshape (-1, 1)\n",
    "    reg = LinearRegression ().fit (X, y)\n",
    "    return reg.score (X, y)"
   ]
  },
  {
   "cell_type": "markdown",
   "metadata": {},
   "source": [
    "Some plotting functions that will be used repeatedly"
   ]
  },
  {
   "cell_type": "code",
   "execution_count": null,
   "metadata": {},
   "outputs": [],
   "source": [
    "fpl = pd.read_csv (r\"https://raw.githubusercontent.com/vaastav/Fantasy-Premier-League/master/data/cleaned_merged_seasons.csv\")\n",
    "fpl.drop (fpl.columns[[0]], axis=1, inplace=True)"
   ]
  },
  {
   "cell_type": "code",
   "execution_count": 95,
   "metadata": {},
   "outputs": [
    {
     "data": {
      "text/html": [
       "<div>\n",
       "<style scoped>\n",
       "    .dataframe tbody tr th:only-of-type {\n",
       "        vertical-align: middle;\n",
       "    }\n",
       "\n",
       "    .dataframe tbody tr th {\n",
       "        vertical-align: top;\n",
       "    }\n",
       "\n",
       "    .dataframe thead th {\n",
       "        text-align: right;\n",
       "    }\n",
       "</style>\n",
       "<table border=\"1\" class=\"dataframe\">\n",
       "  <thead>\n",
       "    <tr style=\"text-align: right;\">\n",
       "      <th></th>\n",
       "      <th>season_x</th>\n",
       "      <th>name</th>\n",
       "      <th>position</th>\n",
       "      <th>team_x</th>\n",
       "      <th>assists</th>\n",
       "      <th>bonus</th>\n",
       "      <th>bps</th>\n",
       "      <th>clean_sheets</th>\n",
       "      <th>creativity</th>\n",
       "      <th>element</th>\n",
       "      <th>fixture</th>\n",
       "      <th>goals_conceded</th>\n",
       "      <th>goals_scored</th>\n",
       "      <th>ict_index</th>\n",
       "      <th>influence</th>\n",
       "      <th>kickoff_time</th>\n",
       "      <th>minutes</th>\n",
       "      <th>opponent_team</th>\n",
       "      <th>opp_team_name</th>\n",
       "      <th>own_goals</th>\n",
       "      <th>penalties_missed</th>\n",
       "      <th>penalties_saved</th>\n",
       "      <th>red_cards</th>\n",
       "      <th>round</th>\n",
       "      <th>saves</th>\n",
       "      <th>selected</th>\n",
       "      <th>team_a_score</th>\n",
       "      <th>team_h_score</th>\n",
       "      <th>threat</th>\n",
       "      <th>total_points</th>\n",
       "      <th>transfers_balance</th>\n",
       "      <th>transfers_in</th>\n",
       "      <th>transfers_out</th>\n",
       "      <th>value</th>\n",
       "      <th>was_home</th>\n",
       "      <th>yellow_cards</th>\n",
       "      <th>GW</th>\n",
       "    </tr>\n",
       "  </thead>\n",
       "  <tbody>\n",
       "    <tr>\n",
       "      <th>0</th>\n",
       "      <td>2016-17</td>\n",
       "      <td>Aaron Cresswell</td>\n",
       "      <td>DEF</td>\n",
       "      <td>NaN</td>\n",
       "      <td>0</td>\n",
       "      <td>0</td>\n",
       "      <td>0</td>\n",
       "      <td>0</td>\n",
       "      <td>0.0</td>\n",
       "      <td>454</td>\n",
       "      <td>10</td>\n",
       "      <td>0</td>\n",
       "      <td>0</td>\n",
       "      <td>0.0</td>\n",
       "      <td>0.0</td>\n",
       "      <td>2016-08-15T19:00:00Z</td>\n",
       "      <td>0</td>\n",
       "      <td>4</td>\n",
       "      <td>Chelsea</td>\n",
       "      <td>0</td>\n",
       "      <td>0</td>\n",
       "      <td>0</td>\n",
       "      <td>0</td>\n",
       "      <td>1</td>\n",
       "      <td>0</td>\n",
       "      <td>14023</td>\n",
       "      <td>1.0</td>\n",
       "      <td>2.0</td>\n",
       "      <td>0.0</td>\n",
       "      <td>0</td>\n",
       "      <td>0</td>\n",
       "      <td>0</td>\n",
       "      <td>0</td>\n",
       "      <td>55</td>\n",
       "      <td>False</td>\n",
       "      <td>0</td>\n",
       "      <td>1</td>\n",
       "    </tr>\n",
       "    <tr>\n",
       "      <th>1</th>\n",
       "      <td>2016-17</td>\n",
       "      <td>Aaron Lennon</td>\n",
       "      <td>MID</td>\n",
       "      <td>NaN</td>\n",
       "      <td>0</td>\n",
       "      <td>0</td>\n",
       "      <td>6</td>\n",
       "      <td>0</td>\n",
       "      <td>0.3</td>\n",
       "      <td>142</td>\n",
       "      <td>3</td>\n",
       "      <td>0</td>\n",
       "      <td>0</td>\n",
       "      <td>0.9</td>\n",
       "      <td>8.2</td>\n",
       "      <td>2016-08-13T14:00:00Z</td>\n",
       "      <td>15</td>\n",
       "      <td>17</td>\n",
       "      <td>Spurs</td>\n",
       "      <td>0</td>\n",
       "      <td>0</td>\n",
       "      <td>0</td>\n",
       "      <td>0</td>\n",
       "      <td>1</td>\n",
       "      <td>0</td>\n",
       "      <td>13918</td>\n",
       "      <td>1.0</td>\n",
       "      <td>1.0</td>\n",
       "      <td>0.0</td>\n",
       "      <td>1</td>\n",
       "      <td>0</td>\n",
       "      <td>0</td>\n",
       "      <td>0</td>\n",
       "      <td>60</td>\n",
       "      <td>True</td>\n",
       "      <td>0</td>\n",
       "      <td>1</td>\n",
       "    </tr>\n",
       "    <tr>\n",
       "      <th>2</th>\n",
       "      <td>2016-17</td>\n",
       "      <td>Aaron Ramsey</td>\n",
       "      <td>MID</td>\n",
       "      <td>NaN</td>\n",
       "      <td>0</td>\n",
       "      <td>0</td>\n",
       "      <td>5</td>\n",
       "      <td>0</td>\n",
       "      <td>4.9</td>\n",
       "      <td>16</td>\n",
       "      <td>8</td>\n",
       "      <td>3</td>\n",
       "      <td>0</td>\n",
       "      <td>3.0</td>\n",
       "      <td>2.2</td>\n",
       "      <td>2016-08-14T15:00:00Z</td>\n",
       "      <td>60</td>\n",
       "      <td>9</td>\n",
       "      <td>Liverpool</td>\n",
       "      <td>0</td>\n",
       "      <td>0</td>\n",
       "      <td>0</td>\n",
       "      <td>0</td>\n",
       "      <td>1</td>\n",
       "      <td>0</td>\n",
       "      <td>163170</td>\n",
       "      <td>4.0</td>\n",
       "      <td>3.0</td>\n",
       "      <td>23.0</td>\n",
       "      <td>2</td>\n",
       "      <td>0</td>\n",
       "      <td>0</td>\n",
       "      <td>0</td>\n",
       "      <td>80</td>\n",
       "      <td>True</td>\n",
       "      <td>0</td>\n",
       "      <td>1</td>\n",
       "    </tr>\n",
       "    <tr>\n",
       "      <th>3</th>\n",
       "      <td>2016-17</td>\n",
       "      <td>Abdoulaye Doucouré</td>\n",
       "      <td>MID</td>\n",
       "      <td>NaN</td>\n",
       "      <td>0</td>\n",
       "      <td>0</td>\n",
       "      <td>0</td>\n",
       "      <td>0</td>\n",
       "      <td>0.0</td>\n",
       "      <td>482</td>\n",
       "      <td>7</td>\n",
       "      <td>0</td>\n",
       "      <td>0</td>\n",
       "      <td>0.0</td>\n",
       "      <td>0.0</td>\n",
       "      <td>2016-08-13T14:00:00Z</td>\n",
       "      <td>0</td>\n",
       "      <td>13</td>\n",
       "      <td>Southampton</td>\n",
       "      <td>0</td>\n",
       "      <td>0</td>\n",
       "      <td>0</td>\n",
       "      <td>0</td>\n",
       "      <td>1</td>\n",
       "      <td>0</td>\n",
       "      <td>1051</td>\n",
       "      <td>1.0</td>\n",
       "      <td>1.0</td>\n",
       "      <td>0.0</td>\n",
       "      <td>0</td>\n",
       "      <td>0</td>\n",
       "      <td>0</td>\n",
       "      <td>0</td>\n",
       "      <td>50</td>\n",
       "      <td>False</td>\n",
       "      <td>0</td>\n",
       "      <td>1</td>\n",
       "    </tr>\n",
       "    <tr>\n",
       "      <th>4</th>\n",
       "      <td>2016-17</td>\n",
       "      <td>Adam Forshaw</td>\n",
       "      <td>MID</td>\n",
       "      <td>NaN</td>\n",
       "      <td>0</td>\n",
       "      <td>0</td>\n",
       "      <td>3</td>\n",
       "      <td>0</td>\n",
       "      <td>1.3</td>\n",
       "      <td>286</td>\n",
       "      <td>6</td>\n",
       "      <td>1</td>\n",
       "      <td>0</td>\n",
       "      <td>0.3</td>\n",
       "      <td>2.0</td>\n",
       "      <td>2016-08-13T14:00:00Z</td>\n",
       "      <td>69</td>\n",
       "      <td>14</td>\n",
       "      <td>Stoke</td>\n",
       "      <td>0</td>\n",
       "      <td>0</td>\n",
       "      <td>0</td>\n",
       "      <td>0</td>\n",
       "      <td>1</td>\n",
       "      <td>0</td>\n",
       "      <td>2723</td>\n",
       "      <td>1.0</td>\n",
       "      <td>1.0</td>\n",
       "      <td>0.0</td>\n",
       "      <td>1</td>\n",
       "      <td>0</td>\n",
       "      <td>0</td>\n",
       "      <td>0</td>\n",
       "      <td>45</td>\n",
       "      <td>True</td>\n",
       "      <td>1</td>\n",
       "      <td>1</td>\n",
       "    </tr>\n",
       "  </tbody>\n",
       "</table>\n",
       "</div>"
      ],
      "text/plain": [
       "  season_x                name position team_x  assists  bonus  bps  \\\n",
       "0  2016-17     Aaron Cresswell      DEF    NaN        0      0    0   \n",
       "1  2016-17        Aaron Lennon      MID    NaN        0      0    6   \n",
       "2  2016-17        Aaron Ramsey      MID    NaN        0      0    5   \n",
       "3  2016-17  Abdoulaye Doucouré      MID    NaN        0      0    0   \n",
       "4  2016-17        Adam Forshaw      MID    NaN        0      0    3   \n",
       "\n",
       "   clean_sheets  creativity  element  fixture  goals_conceded  goals_scored  \\\n",
       "0             0         0.0      454       10               0             0   \n",
       "1             0         0.3      142        3               0             0   \n",
       "2             0         4.9       16        8               3             0   \n",
       "3             0         0.0      482        7               0             0   \n",
       "4             0         1.3      286        6               1             0   \n",
       "\n",
       "   ict_index  influence          kickoff_time  minutes  opponent_team  \\\n",
       "0        0.0        0.0  2016-08-15T19:00:00Z        0              4   \n",
       "1        0.9        8.2  2016-08-13T14:00:00Z       15             17   \n",
       "2        3.0        2.2  2016-08-14T15:00:00Z       60              9   \n",
       "3        0.0        0.0  2016-08-13T14:00:00Z        0             13   \n",
       "4        0.3        2.0  2016-08-13T14:00:00Z       69             14   \n",
       "\n",
       "  opp_team_name  own_goals  penalties_missed  penalties_saved  red_cards  \\\n",
       "0       Chelsea          0                 0                0          0   \n",
       "1         Spurs          0                 0                0          0   \n",
       "2     Liverpool          0                 0                0          0   \n",
       "3   Southampton          0                 0                0          0   \n",
       "4         Stoke          0                 0                0          0   \n",
       "\n",
       "   round  saves  selected  team_a_score  team_h_score  threat  total_points  \\\n",
       "0      1      0     14023           1.0           2.0     0.0             0   \n",
       "1      1      0     13918           1.0           1.0     0.0             1   \n",
       "2      1      0    163170           4.0           3.0    23.0             2   \n",
       "3      1      0      1051           1.0           1.0     0.0             0   \n",
       "4      1      0      2723           1.0           1.0     0.0             1   \n",
       "\n",
       "   transfers_balance  transfers_in  transfers_out  value  was_home  \\\n",
       "0                  0             0              0     55     False   \n",
       "1                  0             0              0     60      True   \n",
       "2                  0             0              0     80      True   \n",
       "3                  0             0              0     50     False   \n",
       "4                  0             0              0     45      True   \n",
       "\n",
       "   yellow_cards  GW  \n",
       "0             0   1  \n",
       "1             0   1  \n",
       "2             0   1  \n",
       "3             0   1  \n",
       "4             1   1  "
      ]
     },
     "execution_count": 95,
     "metadata": {},
     "output_type": "execute_result"
    }
   ],
   "source": [
    "pd.set_option('display.max_columns', None)\n",
    "fpl.head ()"
   ]
  },
  {
   "cell_type": "code",
   "execution_count": 96,
   "metadata": {},
   "outputs": [
    {
     "data": {
      "text/plain": [
       "Index(['season_x', 'name', 'position', 'team_x', 'assists', 'bonus', 'bps',\n",
       "       'clean_sheets', 'creativity', 'element', 'fixture', 'goals_conceded',\n",
       "       'goals_scored', 'ict_index', 'influence', 'kickoff_time', 'minutes',\n",
       "       'opponent_team', 'opp_team_name', 'own_goals', 'penalties_missed',\n",
       "       'penalties_saved', 'red_cards', 'round', 'saves', 'selected',\n",
       "       'team_a_score', 'team_h_score', 'threat', 'total_points',\n",
       "       'transfers_balance', 'transfers_in', 'transfers_out', 'value',\n",
       "       'was_home', 'yellow_cards', 'GW'],\n",
       "      dtype='object')"
      ]
     },
     "execution_count": 96,
     "metadata": {},
     "output_type": "execute_result"
    }
   ],
   "source": [
    "fpl.columns"
   ]
  },
  {
   "cell_type": "markdown",
   "metadata": {},
   "source": [
    "1. Correlation of FPL points vs. Actual PL points"
   ]
  },
  {
   "cell_type": "code",
   "execution_count": 97,
   "metadata": {},
   "outputs": [],
   "source": [
    "szn_22 = fpl [fpl['season_x']==\"2021-22\"]"
   ]
  },
  {
   "cell_type": "code",
   "execution_count": 98,
   "metadata": {},
   "outputs": [
    {
     "name": "stdout",
     "output_type": "stream",
     "text": [
      "{'Brentford', 'Norwich', 'Spurs', 'West Ham', 'Watford', 'Man Utd', 'Man City', 'Brighton', 'Leicester', 'Wolves', 'Burnley', 'Arsenal', 'Everton', 'Newcastle', 'Leeds', 'Chelsea', 'Aston Villa', 'Southampton', 'Crystal Palace', 'Liverpool'}\n"
     ]
    }
   ],
   "source": [
    "teams = set ()\n",
    "for team in szn_22['team_x']:\n",
    "    teams.add (team)\n",
    "\n",
    "print (teams)"
   ]
  },
  {
   "cell_type": "code",
   "execution_count": 99,
   "metadata": {},
   "outputs": [],
   "source": [
    "szn_22_rankings = pd.read_csv (r\"C:\\Users\\Bryant Xia\\Desktop\\ML_FPL\\21_22ranking.csv\")"
   ]
  },
  {
   "cell_type": "code",
   "execution_count": 100,
   "metadata": {},
   "outputs": [],
   "source": [
    "club_to_pts = dict ()\n",
    "for i in range (20):\n",
    "    club_to_pts [szn_22_rankings['Club'][i]] = szn_22_rankings ['P'][i]"
   ]
  },
  {
   "cell_type": "code",
   "execution_count": 101,
   "metadata": {},
   "outputs": [],
   "source": [
    "annotations = []\n",
    "prem_points = []\n",
    "fpl_points = []\n",
    "\n",
    "for team in teams:\n",
    "    team_stats = szn_22[szn_22['team_x']==team]\n",
    "    team_points = team_stats['total_points'].sum ()\n",
    "    annotations.append (team)\n",
    "    prem_points.append (club_to_pts[team])\n",
    "    fpl_points.append (team_points)"
   ]
  },
  {
   "cell_type": "code",
   "execution_count": 286,
   "metadata": {},
   "outputs": [
    {
     "data": {
      "image/png": "[encoded data removed]",
      "text/plain": [
       "<Figure size 600x400 with 1 Axes>"
      ]
     },
     "metadata": {
      "needs_background": "light"
     },
     "output_type": "display_data"
    }
   ],
   "source": [
    "plt.figure (dpi=100)\n",
    "plt.ylabel (\"FPL Points\")\n",
    "plt.xlabel (\"Premier League Points\")\n",
    "plt.title (\"fig 1. FPL vs. Prem\")\n",
    "plt.scatter (prem_points, fpl_points, marker=\".\", c=fpl_points, cmap=\"plasma\")\n",
    "plt.grid (True)\n",
    "for i in range(20):\n",
    "    plt.annotate(annotations[i], (prem_points[i], fpl_points[i] + 0.5), fontsize=8)"
   ]
  },
  {
   "cell_type": "code",
   "execution_count": 108,
   "metadata": {},
   "outputs": [
    {
     "data": {
      "text/plain": [
       "0.9062273534314477"
      ]
     },
     "execution_count": 108,
     "metadata": {},
     "output_type": "execute_result"
    }
   ],
   "source": [
    "R_squared (prem_points, fpl_points)"
   ]
  },
  {
   "cell_type": "markdown",
   "metadata": {},
   "source": [
    "* Strong correlation\n",
    "* Clear at the top level, though several teams rank higher in terms of total FPL points than actual PL points\n",
    "* To be expected bc. FPL favor more goals, etc. --> does not translate one-to-one with wins"
   ]
  },
  {
   "cell_type": "markdown",
   "metadata": {},
   "source": [
    "2. Cost vs. Returns"
   ]
  },
  {
   "cell_type": "code",
   "execution_count": 296,
   "metadata": {},
   "outputs": [
    {
     "data": {
      "image/png": "[encoded data removed]",
      "text/plain": [
       "<Figure size 600x400 with 1 Axes>"
      ]
     },
     "metadata": {
      "needs_background": "light"
     },
     "output_type": "display_data"
    }
   ],
   "source": [
    "costs_benefits = fpl.groupby ('value')['total_points'].mean ()\n",
    "std_devs = 1*np.array(list (fpl.groupby ('value')['total_points'].std ()))\n",
    "costs = list (costs_benefits.index)\n",
    "benefits = list (costs_benefits)\n",
    "upper = benefits + std_devs\n",
    "lower = benefits - std_devs\n",
    "# plt.plot (costs[::3], benefits[::3])\n",
    "# plt.plot (costs[::3], upper[::3])\n",
    "# plt.plot (costs[::3], lower[::3])\n",
    "plot_scatter (\"cost (100,000)\", \"avg. FPL points\", \"fig 2. cost vs returns\", costs, benefits, lbf=True, color=\"black\", lbfcolor=\"teal\")"
   ]
  },
  {
   "cell_type": "code",
   "execution_count": 159,
   "metadata": {},
   "outputs": [
    {
     "data": {
      "text/plain": [
       "0.7841322995939496"
      ]
     },
     "execution_count": 159,
     "metadata": {},
     "output_type": "execute_result"
    }
   ],
   "source": [
    "R_squared (costs, benefits)"
   ]
  },
  {
   "cell_type": "markdown",
   "metadata": {},
   "source": [
    "* Fairly strong linear correlation of FPL points vs. cost, though there is a lot of fluctuation at the high level"
   ]
  },
  {
   "cell_type": "markdown",
   "metadata": {},
   "source": [
    "3. Top performers "
   ]
  },
  {
   "cell_type": "code",
   "execution_count": 187,
   "metadata": {},
   "outputs": [
    {
     "data": {
      "image/png": "[encoded data removed]",
      "text/plain": [
       "<Figure size 600x400 with 1 Axes>"
      ]
     },
     "metadata": {
      "needs_background": "light"
     },
     "output_type": "display_data"
    }
   ],
   "source": [
    "players_points = fpl.groupby ('name')['total_points'].sum ()\n",
    "players = players_points.index\n",
    "points = list (players_points)\n",
    "temp = pd.DataFrame ({\n",
    "    \"players\": players,\n",
    "    \"points\": points\n",
    "})\n",
    "temp=temp.sort_values (by=['points'], ascending=False).reset_index ()\n",
    "# for i in range (15):\n",
    "#     print (temp['players'][i], temp['points'][i])\n",
    "plt.figure (dpi=100)\n",
    "plt.ylabel (\"FPL points 21-22\")\n",
    "plt.bar (temp['players'][:15], temp['points'][:15], width=0.4, color=\"orange\")\n",
    "plt.xticks(rotation=270)\n",
    "plt.show ()\n"
   ]
  },
  {
   "cell_type": "markdown",
   "metadata": {},
   "source": [
    "4. Auto-correlation plot of previous GW points, goals, etc."
   ]
  },
  {
   "cell_type": "code",
   "execution_count": 201,
   "metadata": {},
   "outputs": [],
   "source": [
    "x = []\n",
    "y = []\n",
    "for i in range (1, 21):\n",
    "    x.append (i)\n",
    "    var_name = 'total_points_prev_'+str(i)\n",
    "    fpl [var_name] = fpl.groupby('name')['total_points'].shift(i)\n",
    "    temp = fpl.dropna ()\n",
    "    y.append (np.corrcoef (temp['total_points'], temp[var_name])[0, 1])"
   ]
  },
  {
   "cell_type": "code",
   "execution_count": 299,
   "metadata": {},
   "outputs": [
    {
     "data": {
      "image/png": "[encoded data removed]",
      "text/plain": [
       "<Figure size 600x400 with 1 Axes>"
      ]
     },
     "metadata": {
      "needs_background": "light"
     },
     "output_type": "display_data"
    }
   ],
   "source": [
    "plot_scatter (xlab=\"lag\", ylab=\"corr. coef.\", title=\"fig 4. autocorrelation plot of total points\", x=x, y=y, lbf=False)"
   ]
  },
  {
   "cell_type": "markdown",
   "metadata": {},
   "source": [
    "* Performance in previous weeks will be informative in predicting total points earned"
   ]
  },
  {
   "cell_type": "markdown",
   "metadata": {},
   "source": [
    "5. Mean-Variance Scatter Plot of Players"
   ]
  },
  {
   "cell_type": "code",
   "execution_count": 245,
   "metadata": {},
   "outputs": [],
   "source": [
    "means = szn_22.groupby ('name')['total_points'].mean ()\n",
    "devs = szn_22.groupby ('name')['total_points'].std ()\n",
    "names = means.index \n",
    "mid_last = []\n",
    "for name in names:\n",
    "    arr = str.split (name, \" \")\n",
    "    comb= \"\"\n",
    "    for part in range (1, len(arr)):\n",
    "        comb += \" \"+arr[part]\n",
    "    if (len(arr)==0):\n",
    "        comb=part\n",
    "    mid_last.append (comb)\n",
    "means = list (means)\n",
    "devs = list (devs)\n",
    "mv = pd.DataFrame ({\n",
    "    'names': names,\n",
    "    'means': means, \n",
    "    'devs': devs,\n",
    "    \"shortened_name\": mid_last\n",
    "})\n",
    "mv = mv.sort_values (by='means', ascending=False).reset_index ()\n"
   ]
  },
  {
   "cell_type": "code",
   "execution_count": 297,
   "metadata": {},
   "outputs": [
    {
     "data": {
      "image/png": "[encoded data removed]",
      "text/plain": [
       "<Figure size 600x400 with 1 Axes>"
      ]
     },
     "metadata": {
      "needs_background": "light"
     },
     "output_type": "display_data"
    }
   ],
   "source": [
    "plot_scatter (xlab=\"std\", ylab=\"mean\", title=\"fig 3. mean-variance plot\", x=mv['devs'][:10], y=mv['means'][:10], lbf=False, annotate=True, annotations=mv['shortened_name'][:10], dist=0.1)"
   ]
  },
  {
   "cell_type": "code",
   "execution_count": 248,
   "metadata": {},
   "outputs": [],
   "source": [
    "mv ['adj_ret'] = mv['means']/mv['devs']\n",
    "mv = mv.sort_values (by='adj_ret', ascending=False).reset_index ()"
   ]
  },
  {
   "cell_type": "code",
   "execution_count": 249,
   "metadata": {},
   "outputs": [
    {
     "name": "stdout",
     "output_type": "stream",
     "text": [
      "Dwight McNeil 3.2641216439564418\n",
      "Ederson Santana de Moraes 1.6359389774963324\n",
      "Alisson Ramses Becker 1.5353738103974641\n",
      "Kenny McLean 1.5181037406335358\n",
      "Moussa Sissoko 1.497245052117579\n",
      "Hugo Lloris 1.4364702114093357\n",
      "Pierre-Emile Højbjerg 1.4019765882096138\n",
      "David de Gea 1.3828409390428102\n",
      "Robert Sánchez 1.382643248167202\n",
      "Virgil van Dijk 1.3299431872571335\n",
      "Trent Alexander-Arnold 1.3284129964882216\n",
      "Dejan Kulusevski 1.32629271368115\n",
      "Heung-Min Son 1.3239178260019577\n",
      "Stuart Dallas 1.3036549044883234\n",
      "José Malheiro de Sá 1.2995831169422596\n"
     ]
    }
   ],
   "source": [
    "for i in range (15):\n",
    "    print (mv['names'][i], mv['adj_ret'][i])"
   ]
  },
  {
   "cell_type": "markdown",
   "metadata": {},
   "source": [
    "#### Want to merge the new game week information as well"
   ]
  },
  {
   "cell_type": "code",
   "execution_count": 269,
   "metadata": {},
   "outputs": [],
   "source": [
    "latest = pd.read_csv (r\"https://raw.githubusercontent.com/vaastav/Fantasy-Premier-League/master/data/2022-23/gws/merged_gw.csv\")"
   ]
  },
  {
   "cell_type": "code",
   "execution_count": 270,
   "metadata": {},
   "outputs": [
    {
     "name": "stderr",
     "output_type": "stream",
     "text": [
      "C:\\Users\\Bryant Xia\\AppData\\Local\\Temp\\ipykernel_13672\\561317881.py:1: DtypeWarning: Columns (4) have mixed types. Specify dtype option on import or set low_memory=False.\n",
      "  fpl_raw = pd.read_csv (r\"https://raw.githubusercontent.com/vaastav/Fantasy-Premier-League/master/data/cleaned_merged_seasons.csv\")\n"
     ]
    }
   ],
   "source": [
    "fpl_raw = pd.read_csv (r\"https://raw.githubusercontent.com/vaastav/Fantasy-Premier-League/master/data/cleaned_merged_seasons.csv\")\n",
    "fpl_raw.drop (fpl_raw.columns[[0]], axis=1, inplace=True)"
   ]
  },
  {
   "cell_type": "code",
   "execution_count": 271,
   "metadata": {},
   "outputs": [
    {
     "data": {
      "text/plain": [
       "Index(['name', 'position', 'team', 'xP', 'assists', 'bonus', 'bps',\n",
       "       'clean_sheets', 'creativity', 'element', 'fixture', 'goals_conceded',\n",
       "       'goals_scored', 'ict_index', 'influence', 'kickoff_time', 'minutes',\n",
       "       'opponent_team', 'own_goals', 'penalties_missed', 'penalties_saved',\n",
       "       'red_cards', 'round', 'saves', 'selected', 'team_a_score',\n",
       "       'team_h_score', 'threat', 'total_points', 'transfers_balance',\n",
       "       'transfers_in', 'transfers_out', 'value', 'was_home', 'yellow_cards',\n",
       "       'GW'],\n",
       "      dtype='object')"
      ]
     },
     "execution_count": 271,
     "metadata": {},
     "output_type": "execute_result"
    }
   ],
   "source": [
    "latest.columns"
   ]
  },
  {
   "cell_type": "code",
   "execution_count": 272,
   "metadata": {},
   "outputs": [
    {
     "data": {
      "text/plain": [
       "Index(['season_x', 'name', 'position', 'team_x', 'assists', 'bonus', 'bps',\n",
       "       'clean_sheets', 'creativity', 'element', 'fixture', 'goals_conceded',\n",
       "       'goals_scored', 'ict_index', 'influence', 'kickoff_time', 'minutes',\n",
       "       'opponent_team', 'opp_team_name', 'own_goals', 'penalties_missed',\n",
       "       'penalties_saved', 'red_cards', 'round', 'saves', 'selected',\n",
       "       'team_a_score', 'team_h_score', 'threat', 'total_points',\n",
       "       'transfers_balance', 'transfers_in', 'transfers_out', 'value',\n",
       "       'was_home', 'yellow_cards', 'GW'],\n",
       "      dtype='object')"
      ]
     },
     "execution_count": 272,
     "metadata": {},
     "output_type": "execute_result"
    }
   ],
   "source": [
    "fpl_raw.columns"
   ]
  },
  {
   "cell_type": "code",
   "execution_count": 273,
   "metadata": {},
   "outputs": [],
   "source": [
    "latest ['season_x'] = \"2022-23\""
   ]
  },
  {
   "cell_type": "code",
   "execution_count": 274,
   "metadata": {},
   "outputs": [],
   "source": [
    "latest = latest.rename(columns={\"team\": \"team_x\"})"
   ]
  },
  {
   "cell_type": "code",
   "execution_count": 275,
   "metadata": {},
   "outputs": [],
   "source": [
    "latest = latest.drop(['xP'], axis=1)\n",
    "fpl_raw = fpl_raw.drop(['opp_team_name'], axis=1)"
   ]
  },
  {
   "cell_type": "code",
   "execution_count": 276,
   "metadata": {},
   "outputs": [
    {
     "data": {
      "text/plain": [
       "36"
      ]
     },
     "execution_count": 276,
     "metadata": {},
     "output_type": "execute_result"
    }
   ],
   "source": [
    "len (fpl_raw.columns)"
   ]
  },
  {
   "cell_type": "code",
   "execution_count": 277,
   "metadata": {},
   "outputs": [
    {
     "data": {
      "text/plain": [
       "36"
      ]
     },
     "execution_count": 277,
     "metadata": {},
     "output_type": "execute_result"
    }
   ],
   "source": [
    "len (latest.columns)"
   ]
  },
  {
   "cell_type": "code",
   "execution_count": 278,
   "metadata": {},
   "outputs": [],
   "source": [
    "merged = pd.concat ([fpl_raw, latest])"
   ]
  },
  {
   "cell_type": "code",
   "execution_count": 279,
   "metadata": {},
   "outputs": [
    {
     "data": {
      "text/html": [
       "<div>\n",
       "<style scoped>\n",
       "    .dataframe tbody tr th:only-of-type {\n",
       "        vertical-align: middle;\n",
       "    }\n",
       "\n",
       "    .dataframe tbody tr th {\n",
       "        vertical-align: top;\n",
       "    }\n",
       "\n",
       "    .dataframe thead th {\n",
       "        text-align: right;\n",
       "    }\n",
       "</style>\n",
       "<table border=\"1\" class=\"dataframe\">\n",
       "  <thead>\n",
       "    <tr style=\"text-align: right;\">\n",
       "      <th></th>\n",
       "      <th>season_x</th>\n",
       "      <th>name</th>\n",
       "      <th>position</th>\n",
       "      <th>team_x</th>\n",
       "      <th>assists</th>\n",
       "      <th>bonus</th>\n",
       "      <th>bps</th>\n",
       "      <th>clean_sheets</th>\n",
       "      <th>creativity</th>\n",
       "      <th>element</th>\n",
       "      <th>fixture</th>\n",
       "      <th>goals_conceded</th>\n",
       "      <th>goals_scored</th>\n",
       "      <th>ict_index</th>\n",
       "      <th>influence</th>\n",
       "      <th>kickoff_time</th>\n",
       "      <th>minutes</th>\n",
       "      <th>opponent_team</th>\n",
       "      <th>own_goals</th>\n",
       "      <th>penalties_missed</th>\n",
       "      <th>penalties_saved</th>\n",
       "      <th>red_cards</th>\n",
       "      <th>round</th>\n",
       "      <th>saves</th>\n",
       "      <th>selected</th>\n",
       "      <th>team_a_score</th>\n",
       "      <th>team_h_score</th>\n",
       "      <th>threat</th>\n",
       "      <th>total_points</th>\n",
       "      <th>transfers_balance</th>\n",
       "      <th>transfers_in</th>\n",
       "      <th>transfers_out</th>\n",
       "      <th>value</th>\n",
       "      <th>was_home</th>\n",
       "      <th>yellow_cards</th>\n",
       "      <th>GW</th>\n",
       "    </tr>\n",
       "  </thead>\n",
       "  <tbody>\n",
       "    <tr>\n",
       "      <th>0</th>\n",
       "      <td>2016-17</td>\n",
       "      <td>Aaron Cresswell</td>\n",
       "      <td>DEF</td>\n",
       "      <td>NaN</td>\n",
       "      <td>0</td>\n",
       "      <td>0</td>\n",
       "      <td>0</td>\n",
       "      <td>0</td>\n",
       "      <td>0.0</td>\n",
       "      <td>454</td>\n",
       "      <td>10</td>\n",
       "      <td>0</td>\n",
       "      <td>0</td>\n",
       "      <td>0.0</td>\n",
       "      <td>0.0</td>\n",
       "      <td>2016-08-15T19:00:00Z</td>\n",
       "      <td>0</td>\n",
       "      <td>4</td>\n",
       "      <td>0</td>\n",
       "      <td>0</td>\n",
       "      <td>0</td>\n",
       "      <td>0</td>\n",
       "      <td>1</td>\n",
       "      <td>0</td>\n",
       "      <td>14023</td>\n",
       "      <td>1.0</td>\n",
       "      <td>2.0</td>\n",
       "      <td>0.0</td>\n",
       "      <td>0</td>\n",
       "      <td>0</td>\n",
       "      <td>0</td>\n",
       "      <td>0</td>\n",
       "      <td>55</td>\n",
       "      <td>False</td>\n",
       "      <td>0</td>\n",
       "      <td>1</td>\n",
       "    </tr>\n",
       "    <tr>\n",
       "      <th>1</th>\n",
       "      <td>2016-17</td>\n",
       "      <td>Aaron Lennon</td>\n",
       "      <td>MID</td>\n",
       "      <td>NaN</td>\n",
       "      <td>0</td>\n",
       "      <td>0</td>\n",
       "      <td>6</td>\n",
       "      <td>0</td>\n",
       "      <td>0.3</td>\n",
       "      <td>142</td>\n",
       "      <td>3</td>\n",
       "      <td>0</td>\n",
       "      <td>0</td>\n",
       "      <td>0.9</td>\n",
       "      <td>8.2</td>\n",
       "      <td>2016-08-13T14:00:00Z</td>\n",
       "      <td>15</td>\n",
       "      <td>17</td>\n",
       "      <td>0</td>\n",
       "      <td>0</td>\n",
       "      <td>0</td>\n",
       "      <td>0</td>\n",
       "      <td>1</td>\n",
       "      <td>0</td>\n",
       "      <td>13918</td>\n",
       "      <td>1.0</td>\n",
       "      <td>1.0</td>\n",
       "      <td>0.0</td>\n",
       "      <td>1</td>\n",
       "      <td>0</td>\n",
       "      <td>0</td>\n",
       "      <td>0</td>\n",
       "      <td>60</td>\n",
       "      <td>True</td>\n",
       "      <td>0</td>\n",
       "      <td>1</td>\n",
       "    </tr>\n",
       "    <tr>\n",
       "      <th>2</th>\n",
       "      <td>2016-17</td>\n",
       "      <td>Aaron Ramsey</td>\n",
       "      <td>MID</td>\n",
       "      <td>NaN</td>\n",
       "      <td>0</td>\n",
       "      <td>0</td>\n",
       "      <td>5</td>\n",
       "      <td>0</td>\n",
       "      <td>4.9</td>\n",
       "      <td>16</td>\n",
       "      <td>8</td>\n",
       "      <td>3</td>\n",
       "      <td>0</td>\n",
       "      <td>3.0</td>\n",
       "      <td>2.2</td>\n",
       "      <td>2016-08-14T15:00:00Z</td>\n",
       "      <td>60</td>\n",
       "      <td>9</td>\n",
       "      <td>0</td>\n",
       "      <td>0</td>\n",
       "      <td>0</td>\n",
       "      <td>0</td>\n",
       "      <td>1</td>\n",
       "      <td>0</td>\n",
       "      <td>163170</td>\n",
       "      <td>4.0</td>\n",
       "      <td>3.0</td>\n",
       "      <td>23.0</td>\n",
       "      <td>2</td>\n",
       "      <td>0</td>\n",
       "      <td>0</td>\n",
       "      <td>0</td>\n",
       "      <td>80</td>\n",
       "      <td>True</td>\n",
       "      <td>0</td>\n",
       "      <td>1</td>\n",
       "    </tr>\n",
       "    <tr>\n",
       "      <th>3</th>\n",
       "      <td>2016-17</td>\n",
       "      <td>Abdoulaye Doucouré</td>\n",
       "      <td>MID</td>\n",
       "      <td>NaN</td>\n",
       "      <td>0</td>\n",
       "      <td>0</td>\n",
       "      <td>0</td>\n",
       "      <td>0</td>\n",
       "      <td>0.0</td>\n",
       "      <td>482</td>\n",
       "      <td>7</td>\n",
       "      <td>0</td>\n",
       "      <td>0</td>\n",
       "      <td>0.0</td>\n",
       "      <td>0.0</td>\n",
       "      <td>2016-08-13T14:00:00Z</td>\n",
       "      <td>0</td>\n",
       "      <td>13</td>\n",
       "      <td>0</td>\n",
       "      <td>0</td>\n",
       "      <td>0</td>\n",
       "      <td>0</td>\n",
       "      <td>1</td>\n",
       "      <td>0</td>\n",
       "      <td>1051</td>\n",
       "      <td>1.0</td>\n",
       "      <td>1.0</td>\n",
       "      <td>0.0</td>\n",
       "      <td>0</td>\n",
       "      <td>0</td>\n",
       "      <td>0</td>\n",
       "      <td>0</td>\n",
       "      <td>50</td>\n",
       "      <td>False</td>\n",
       "      <td>0</td>\n",
       "      <td>1</td>\n",
       "    </tr>\n",
       "    <tr>\n",
       "      <th>4</th>\n",
       "      <td>2016-17</td>\n",
       "      <td>Adam Forshaw</td>\n",
       "      <td>MID</td>\n",
       "      <td>NaN</td>\n",
       "      <td>0</td>\n",
       "      <td>0</td>\n",
       "      <td>3</td>\n",
       "      <td>0</td>\n",
       "      <td>1.3</td>\n",
       "      <td>286</td>\n",
       "      <td>6</td>\n",
       "      <td>1</td>\n",
       "      <td>0</td>\n",
       "      <td>0.3</td>\n",
       "      <td>2.0</td>\n",
       "      <td>2016-08-13T14:00:00Z</td>\n",
       "      <td>69</td>\n",
       "      <td>14</td>\n",
       "      <td>0</td>\n",
       "      <td>0</td>\n",
       "      <td>0</td>\n",
       "      <td>0</td>\n",
       "      <td>1</td>\n",
       "      <td>0</td>\n",
       "      <td>2723</td>\n",
       "      <td>1.0</td>\n",
       "      <td>1.0</td>\n",
       "      <td>0.0</td>\n",
       "      <td>1</td>\n",
       "      <td>0</td>\n",
       "      <td>0</td>\n",
       "      <td>0</td>\n",
       "      <td>45</td>\n",
       "      <td>True</td>\n",
       "      <td>1</td>\n",
       "      <td>1</td>\n",
       "    </tr>\n",
       "  </tbody>\n",
       "</table>\n",
       "</div>"
      ],
      "text/plain": [
       "  season_x                name position team_x  assists  bonus  bps  \\\n",
       "0  2016-17     Aaron Cresswell      DEF    NaN        0      0    0   \n",
       "1  2016-17        Aaron Lennon      MID    NaN        0      0    6   \n",
       "2  2016-17        Aaron Ramsey      MID    NaN        0      0    5   \n",
       "3  2016-17  Abdoulaye Doucouré      MID    NaN        0      0    0   \n",
       "4  2016-17        Adam Forshaw      MID    NaN        0      0    3   \n",
       "\n",
       "   clean_sheets  creativity  element  fixture  goals_conceded  goals_scored  \\\n",
       "0             0         0.0      454       10               0             0   \n",
       "1             0         0.3      142        3               0             0   \n",
       "2             0         4.9       16        8               3             0   \n",
       "3             0         0.0      482        7               0             0   \n",
       "4             0         1.3      286        6               1             0   \n",
       "\n",
       "   ict_index  influence          kickoff_time  minutes  opponent_team  \\\n",
       "0        0.0        0.0  2016-08-15T19:00:00Z        0              4   \n",
       "1        0.9        8.2  2016-08-13T14:00:00Z       15             17   \n",
       "2        3.0        2.2  2016-08-14T15:00:00Z       60              9   \n",
       "3        0.0        0.0  2016-08-13T14:00:00Z        0             13   \n",
       "4        0.3        2.0  2016-08-13T14:00:00Z       69             14   \n",
       "\n",
       "   own_goals  penalties_missed  penalties_saved  red_cards  round  saves  \\\n",
       "0          0                 0                0          0      1      0   \n",
       "1          0                 0                0          0      1      0   \n",
       "2          0                 0                0          0      1      0   \n",
       "3          0                 0                0          0      1      0   \n",
       "4          0                 0                0          0      1      0   \n",
       "\n",
       "   selected  team_a_score  team_h_score  threat  total_points  \\\n",
       "0     14023           1.0           2.0     0.0             0   \n",
       "1     13918           1.0           1.0     0.0             1   \n",
       "2    163170           4.0           3.0    23.0             2   \n",
       "3      1051           1.0           1.0     0.0             0   \n",
       "4      2723           1.0           1.0     0.0             1   \n",
       "\n",
       "   transfers_balance  transfers_in  transfers_out  value  was_home  \\\n",
       "0                  0             0              0     55     False   \n",
       "1                  0             0              0     60      True   \n",
       "2                  0             0              0     80      True   \n",
       "3                  0             0              0     50     False   \n",
       "4                  0             0              0     45      True   \n",
       "\n",
       "   yellow_cards  GW  \n",
       "0             0   1  \n",
       "1             0   1  \n",
       "2             0   1  \n",
       "3             0   1  \n",
       "4             1   1  "
      ]
     },
     "execution_count": 279,
     "metadata": {},
     "output_type": "execute_result"
    }
   ],
   "source": [
    "merged.head ()"
   ]
  },
  {
   "cell_type": "code",
   "execution_count": 280,
   "metadata": {},
   "outputs": [
    {
     "data": {
      "text/html": [
       "<div>\n",
       "<style scoped>\n",
       "    .dataframe tbody tr th:only-of-type {\n",
       "        vertical-align: middle;\n",
       "    }\n",
       "\n",
       "    .dataframe tbody tr th {\n",
       "        vertical-align: top;\n",
       "    }\n",
       "\n",
       "    .dataframe thead th {\n",
       "        text-align: right;\n",
       "    }\n",
       "</style>\n",
       "<table border=\"1\" class=\"dataframe\">\n",
       "  <thead>\n",
       "    <tr style=\"text-align: right;\">\n",
       "      <th></th>\n",
       "      <th>season_x</th>\n",
       "      <th>name</th>\n",
       "      <th>position</th>\n",
       "      <th>team_x</th>\n",
       "      <th>assists</th>\n",
       "      <th>bonus</th>\n",
       "      <th>bps</th>\n",
       "      <th>clean_sheets</th>\n",
       "      <th>creativity</th>\n",
       "      <th>element</th>\n",
       "      <th>fixture</th>\n",
       "      <th>goals_conceded</th>\n",
       "      <th>goals_scored</th>\n",
       "      <th>ict_index</th>\n",
       "      <th>influence</th>\n",
       "      <th>kickoff_time</th>\n",
       "      <th>minutes</th>\n",
       "      <th>opponent_team</th>\n",
       "      <th>own_goals</th>\n",
       "      <th>penalties_missed</th>\n",
       "      <th>penalties_saved</th>\n",
       "      <th>red_cards</th>\n",
       "      <th>round</th>\n",
       "      <th>saves</th>\n",
       "      <th>selected</th>\n",
       "      <th>team_a_score</th>\n",
       "      <th>team_h_score</th>\n",
       "      <th>threat</th>\n",
       "      <th>total_points</th>\n",
       "      <th>transfers_balance</th>\n",
       "      <th>transfers_in</th>\n",
       "      <th>transfers_out</th>\n",
       "      <th>value</th>\n",
       "      <th>was_home</th>\n",
       "      <th>yellow_cards</th>\n",
       "      <th>GW</th>\n",
       "    </tr>\n",
       "  </thead>\n",
       "  <tbody>\n",
       "    <tr>\n",
       "      <th>2342</th>\n",
       "      <td>2022-23</td>\n",
       "      <td>Oliver Skipp</td>\n",
       "      <td>MID</td>\n",
       "      <td>Spurs</td>\n",
       "      <td>0</td>\n",
       "      <td>0</td>\n",
       "      <td>0</td>\n",
       "      <td>0</td>\n",
       "      <td>0.0</td>\n",
       "      <td>441</td>\n",
       "      <td>38</td>\n",
       "      <td>0</td>\n",
       "      <td>0</td>\n",
       "      <td>0.0</td>\n",
       "      <td>0.0</td>\n",
       "      <td>2022-08-28T15:30:00Z</td>\n",
       "      <td>0</td>\n",
       "      <td>16</td>\n",
       "      <td>0</td>\n",
       "      <td>0</td>\n",
       "      <td>0</td>\n",
       "      <td>0</td>\n",
       "      <td>4</td>\n",
       "      <td>0</td>\n",
       "      <td>8368</td>\n",
       "      <td>2.0</td>\n",
       "      <td>0.0</td>\n",
       "      <td>0.0</td>\n",
       "      <td>0</td>\n",
       "      <td>-1173</td>\n",
       "      <td>107</td>\n",
       "      <td>1280</td>\n",
       "      <td>45</td>\n",
       "      <td>False</td>\n",
       "      <td>0</td>\n",
       "      <td>4</td>\n",
       "    </tr>\n",
       "    <tr>\n",
       "      <th>2343</th>\n",
       "      <td>2022-23</td>\n",
       "      <td>Ryan Sessegnon</td>\n",
       "      <td>DEF</td>\n",
       "      <td>Spurs</td>\n",
       "      <td>0</td>\n",
       "      <td>0</td>\n",
       "      <td>1</td>\n",
       "      <td>0</td>\n",
       "      <td>0.6</td>\n",
       "      <td>436</td>\n",
       "      <td>38</td>\n",
       "      <td>0</td>\n",
       "      <td>0</td>\n",
       "      <td>0.6</td>\n",
       "      <td>3.0</td>\n",
       "      <td>2022-08-28T15:30:00Z</td>\n",
       "      <td>16</td>\n",
       "      <td>16</td>\n",
       "      <td>0</td>\n",
       "      <td>0</td>\n",
       "      <td>0</td>\n",
       "      <td>0</td>\n",
       "      <td>4</td>\n",
       "      <td>0</td>\n",
       "      <td>173321</td>\n",
       "      <td>2.0</td>\n",
       "      <td>0.0</td>\n",
       "      <td>2.0</td>\n",
       "      <td>1</td>\n",
       "      <td>-46700</td>\n",
       "      <td>8651</td>\n",
       "      <td>55351</td>\n",
       "      <td>45</td>\n",
       "      <td>False</td>\n",
       "      <td>0</td>\n",
       "      <td>4</td>\n",
       "    </tr>\n",
       "    <tr>\n",
       "      <th>2344</th>\n",
       "      <td>2022-23</td>\n",
       "      <td>Ashley Young</td>\n",
       "      <td>DEF</td>\n",
       "      <td>Aston Villa</td>\n",
       "      <td>0</td>\n",
       "      <td>0</td>\n",
       "      <td>0</td>\n",
       "      <td>0</td>\n",
       "      <td>0.0</td>\n",
       "      <td>538</td>\n",
       "      <td>32</td>\n",
       "      <td>0</td>\n",
       "      <td>0</td>\n",
       "      <td>0.0</td>\n",
       "      <td>0.0</td>\n",
       "      <td>2022-08-28T13:00:00Z</td>\n",
       "      <td>0</td>\n",
       "      <td>19</td>\n",
       "      <td>0</td>\n",
       "      <td>0</td>\n",
       "      <td>0</td>\n",
       "      <td>0</td>\n",
       "      <td>4</td>\n",
       "      <td>0</td>\n",
       "      <td>12452</td>\n",
       "      <td>1.0</td>\n",
       "      <td>0.0</td>\n",
       "      <td>0.0</td>\n",
       "      <td>0</td>\n",
       "      <td>-1396</td>\n",
       "      <td>617</td>\n",
       "      <td>2013</td>\n",
       "      <td>45</td>\n",
       "      <td>True</td>\n",
       "      <td>0</td>\n",
       "      <td>4</td>\n",
       "    </tr>\n",
       "    <tr>\n",
       "      <th>2345</th>\n",
       "      <td>2022-23</td>\n",
       "      <td>Jeremy Sarmiento Morante</td>\n",
       "      <td>MID</td>\n",
       "      <td>Brighton</td>\n",
       "      <td>0</td>\n",
       "      <td>0</td>\n",
       "      <td>0</td>\n",
       "      <td>0</td>\n",
       "      <td>0.0</td>\n",
       "      <td>119</td>\n",
       "      <td>34</td>\n",
       "      <td>0</td>\n",
       "      <td>0</td>\n",
       "      <td>0.0</td>\n",
       "      <td>0.0</td>\n",
       "      <td>2022-08-27T14:00:00Z</td>\n",
       "      <td>0</td>\n",
       "      <td>11</td>\n",
       "      <td>0</td>\n",
       "      <td>0</td>\n",
       "      <td>0</td>\n",
       "      <td>0</td>\n",
       "      <td>4</td>\n",
       "      <td>0</td>\n",
       "      <td>7760</td>\n",
       "      <td>0.0</td>\n",
       "      <td>1.0</td>\n",
       "      <td>0.0</td>\n",
       "      <td>0</td>\n",
       "      <td>-1664</td>\n",
       "      <td>252</td>\n",
       "      <td>1916</td>\n",
       "      <td>45</td>\n",
       "      <td>True</td>\n",
       "      <td>0</td>\n",
       "      <td>4</td>\n",
       "    </tr>\n",
       "    <tr>\n",
       "      <th>2346</th>\n",
       "      <td>2022-23</td>\n",
       "      <td>Philip Billing</td>\n",
       "      <td>MID</td>\n",
       "      <td>Bournemouth</td>\n",
       "      <td>0</td>\n",
       "      <td>0</td>\n",
       "      <td>4</td>\n",
       "      <td>0</td>\n",
       "      <td>1.0</td>\n",
       "      <td>70</td>\n",
       "      <td>36</td>\n",
       "      <td>4</td>\n",
       "      <td>0</td>\n",
       "      <td>0.8</td>\n",
       "      <td>6.8</td>\n",
       "      <td>2022-08-27T14:00:00Z</td>\n",
       "      <td>45</td>\n",
       "      <td>12</td>\n",
       "      <td>0</td>\n",
       "      <td>0</td>\n",
       "      <td>0</td>\n",
       "      <td>0</td>\n",
       "      <td>4</td>\n",
       "      <td>0</td>\n",
       "      <td>10099</td>\n",
       "      <td>0.0</td>\n",
       "      <td>9.0</td>\n",
       "      <td>0.0</td>\n",
       "      <td>1</td>\n",
       "      <td>-1954</td>\n",
       "      <td>232</td>\n",
       "      <td>2186</td>\n",
       "      <td>54</td>\n",
       "      <td>False</td>\n",
       "      <td>0</td>\n",
       "      <td>4</td>\n",
       "    </tr>\n",
       "  </tbody>\n",
       "</table>\n",
       "</div>"
      ],
      "text/plain": [
       "     season_x                      name position       team_x  assists  bonus  \\\n",
       "2342  2022-23              Oliver Skipp      MID        Spurs        0      0   \n",
       "2343  2022-23            Ryan Sessegnon      DEF        Spurs        0      0   \n",
       "2344  2022-23              Ashley Young      DEF  Aston Villa        0      0   \n",
       "2345  2022-23  Jeremy Sarmiento Morante      MID     Brighton        0      0   \n",
       "2346  2022-23            Philip Billing      MID  Bournemouth        0      0   \n",
       "\n",
       "      bps  clean_sheets  creativity  element  fixture  goals_conceded  \\\n",
       "2342    0             0         0.0      441       38               0   \n",
       "2343    1             0         0.6      436       38               0   \n",
       "2344    0             0         0.0      538       32               0   \n",
       "2345    0             0         0.0      119       34               0   \n",
       "2346    4             0         1.0       70       36               4   \n",
       "\n",
       "      goals_scored  ict_index  influence          kickoff_time  minutes  \\\n",
       "2342             0        0.0        0.0  2022-08-28T15:30:00Z        0   \n",
       "2343             0        0.6        3.0  2022-08-28T15:30:00Z       16   \n",
       "2344             0        0.0        0.0  2022-08-28T13:00:00Z        0   \n",
       "2345             0        0.0        0.0  2022-08-27T14:00:00Z        0   \n",
       "2346             0        0.8        6.8  2022-08-27T14:00:00Z       45   \n",
       "\n",
       "      opponent_team  own_goals  penalties_missed  penalties_saved  red_cards  \\\n",
       "2342             16          0                 0                0          0   \n",
       "2343             16          0                 0                0          0   \n",
       "2344             19          0                 0                0          0   \n",
       "2345             11          0                 0                0          0   \n",
       "2346             12          0                 0                0          0   \n",
       "\n",
       "      round  saves  selected  team_a_score  team_h_score  threat  \\\n",
       "2342      4      0      8368           2.0           0.0     0.0   \n",
       "2343      4      0    173321           2.0           0.0     2.0   \n",
       "2344      4      0     12452           1.0           0.0     0.0   \n",
       "2345      4      0      7760           0.0           1.0     0.0   \n",
       "2346      4      0     10099           0.0           9.0     0.0   \n",
       "\n",
       "      total_points  transfers_balance  transfers_in  transfers_out  value  \\\n",
       "2342             0              -1173           107           1280     45   \n",
       "2343             1             -46700          8651          55351     45   \n",
       "2344             0              -1396           617           2013     45   \n",
       "2345             0              -1664           252           1916     45   \n",
       "2346             1              -1954           232           2186     54   \n",
       "\n",
       "      was_home  yellow_cards  GW  \n",
       "2342     False             0   4  \n",
       "2343     False             0   4  \n",
       "2344      True             0   4  \n",
       "2345      True             0   4  \n",
       "2346     False             0   4  "
      ]
     },
     "execution_count": 280,
     "metadata": {},
     "output_type": "execute_result"
    }
   ],
   "source": [
    "merged.tail ()"
   ]
  },
  {
   "cell_type": "code",
   "execution_count": 281,
   "metadata": {},
   "outputs": [],
   "source": [
    "merged.to_csv (\"merged.csv\", index=False)"
   ]
  }
 ],
 "metadata": {
  "kernelspec": {
   "display_name": "Python 3.10.1 64-bit",
   "language": "python",
   "name": "python3"
  },
  "language_info": {
   "codemirror_mode": {
    "name": "ipython",
    "version": 3
   },
   "file_extension": ".py",
   "mimetype": "text/x-python",
   "name": "python",
   "nbconvert_exporter": "python",
   "pygments_lexer": "ipython3",
   "version": "3.10.1"
  },
  "orig_nbformat": 4,
  "vscode": {
   "interpreter": {
    "hash": "369f2c481f4da34e4445cda3fffd2e751bd1c4d706f27375911949ba6bb62e1c"
   }
  }
 },
 "nbformat": 4,
 "nbformat_minor": 2
}
