{
 "cells": [
  {
   "cell_type": "code",
   "execution_count": 92,
   "metadata": {},
   "outputs": [],
   "source": [
    "import pandas as pd\n",
    "import numpy as np\n",
    "import matplotlib.pyplot as plt\n",
    "import seaborn as sns\n",
    "from sklearn.linear_model import LinearRegression"
   ]
  },
  {
   "cell_type": "code",
   "execution_count": 156,
   "metadata": {},
   "outputs": [],
   "source": [
    "def plot_line (xlab=\"\", ylab=\"\", title=\"\", x=[], y=[]):\n",
    "    plt.figure (dpi = 100)\n",
    "    plt.xlabel (xlab)\n",
    "    plt.ylabel (ylab)\n",
    "    plt.title (title)\n",
    "    plt.plot (x, y)\n",
    "    plt.show ()\n",
    "\n",
    "def plot_scatter (xlab=\"\", ylab=\"\", title=\"\", x=[], y=[], lbf=False, color=\"blue\", lbfcolor=\"blue\"):\n",
    "    plt.figure (dpi = 100)\n",
    "    plt.xlabel (xlab)\n",
    "    plt.ylabel (ylab)\n",
    "    plt.title (title)\n",
    "    plt.scatter (x, y, marker=\".\", color=color)\n",
    "    if (lbf):\n",
    "        x = np.array (x).reshape (-1, 1)\n",
    "        y = np.array (y).reshape (-1, 1)\n",
    "        reg = LinearRegression ().fit (x, y)\n",
    "        y_pred = reg.predict (x)\n",
    "        icpt = reg.intercept_ [0]\n",
    "        slp = reg.coef_ [0][0]\n",
    "        plt.plot (x, y_pred, label=str(round(icpt, 4))+\"+\"+str(round(slp, 4))+\"x\", color=lbfcolor)\n",
    "        plt.legend()\n",
    "        \n",
    "    plt.show ()\n",
    "\n",
    "def R_squared (X, y):\n",
    "    X = np.array (X).reshape (-1, 1)\n",
    "    y = np.array (y).reshape (-1, 1)\n",
    "    reg = LinearRegression ().fit (X, y)\n",
    "    return reg.score (X, y)"
   ]
  },
  {
   "cell_type": "markdown",
   "metadata": {},
   "source": [
    "Some plotting functions that will be used repeatedly"
   ]
  },
  {
   "cell_type": "code",
   "execution_count": null,
   "metadata": {},
   "outputs": [],
   "source": [
    "fpl = pd.read_csv (r\"https://raw.githubusercontent.com/vaastav/Fantasy-Premier-League/master/data/cleaned_merged_seasons.csv\")\n",
    "fpl.drop (fpl.columns[[0]], axis=1, inplace=True)"
   ]
  },
  {
   "cell_type": "code",
   "execution_count": 95,
   "metadata": {},
   "outputs": [
    {
     "data": {
      "text/html": [
       "<div>\n",
       "<style scoped>\n",
       "    .dataframe tbody tr th:only-of-type {\n",
       "        vertical-align: middle;\n",
       "    }\n",
       "\n",
       "    .dataframe tbody tr th {\n",
       "        vertical-align: top;\n",
       "    }\n",
       "\n",
       "    .dataframe thead th {\n",
       "        text-align: right;\n",
       "    }\n",
       "</style>\n",
       "<table border=\"1\" class=\"dataframe\">\n",
       "  <thead>\n",
       "    <tr style=\"text-align: right;\">\n",
       "      <th></th>\n",
       "      <th>season_x</th>\n",
       "      <th>name</th>\n",
       "      <th>position</th>\n",
       "      <th>team_x</th>\n",
       "      <th>assists</th>\n",
       "      <th>bonus</th>\n",
       "      <th>bps</th>\n",
       "      <th>clean_sheets</th>\n",
       "      <th>creativity</th>\n",
       "      <th>element</th>\n",
       "      <th>fixture</th>\n",
       "      <th>goals_conceded</th>\n",
       "      <th>goals_scored</th>\n",
       "      <th>ict_index</th>\n",
       "      <th>influence</th>\n",
       "      <th>kickoff_time</th>\n",
       "      <th>minutes</th>\n",
       "      <th>opponent_team</th>\n",
       "      <th>opp_team_name</th>\n",
       "      <th>own_goals</th>\n",
       "      <th>penalties_missed</th>\n",
       "      <th>penalties_saved</th>\n",
       "      <th>red_cards</th>\n",
       "      <th>round</th>\n",
       "      <th>saves</th>\n",
       "      <th>selected</th>\n",
       "      <th>team_a_score</th>\n",
       "      <th>team_h_score</th>\n",
       "      <th>threat</th>\n",
       "      <th>total_points</th>\n",
       "      <th>transfers_balance</th>\n",
       "      <th>transfers_in</th>\n",
       "      <th>transfers_out</th>\n",
       "      <th>value</th>\n",
       "      <th>was_home</th>\n",
       "      <th>yellow_cards</th>\n",
       "      <th>GW</th>\n",
       "    </tr>\n",
       "  </thead>\n",
       "  <tbody>\n",
       "    <tr>\n",
       "      <th>0</th>\n",
       "      <td>2016-17</td>\n",
       "      <td>Aaron Cresswell</td>\n",
       "      <td>DEF</td>\n",
       "      <td>NaN</td>\n",
       "      <td>0</td>\n",
       "      <td>0</td>\n",
       "      <td>0</td>\n",
       "      <td>0</td>\n",
       "      <td>0.0</td>\n",
       "      <td>454</td>\n",
       "      <td>10</td>\n",
       "      <td>0</td>\n",
       "      <td>0</td>\n",
       "      <td>0.0</td>\n",
       "      <td>0.0</td>\n",
       "      <td>2016-08-15T19:00:00Z</td>\n",
       "      <td>0</td>\n",
       "      <td>4</td>\n",
       "      <td>Chelsea</td>\n",
       "      <td>0</td>\n",
       "      <td>0</td>\n",
       "      <td>0</td>\n",
       "      <td>0</td>\n",
       "      <td>1</td>\n",
       "      <td>0</td>\n",
       "      <td>14023</td>\n",
       "      <td>1.0</td>\n",
       "      <td>2.0</td>\n",
       "      <td>0.0</td>\n",
       "      <td>0</td>\n",
       "      <td>0</td>\n",
       "      <td>0</td>\n",
       "      <td>0</td>\n",
       "      <td>55</td>\n",
       "      <td>False</td>\n",
       "      <td>0</td>\n",
       "      <td>1</td>\n",
       "    </tr>\n",
       "    <tr>\n",
       "      <th>1</th>\n",
       "      <td>2016-17</td>\n",
       "      <td>Aaron Lennon</td>\n",
       "      <td>MID</td>\n",
       "      <td>NaN</td>\n",
       "      <td>0</td>\n",
       "      <td>0</td>\n",
       "      <td>6</td>\n",
       "      <td>0</td>\n",
       "      <td>0.3</td>\n",
       "      <td>142</td>\n",
       "      <td>3</td>\n",
       "      <td>0</td>\n",
       "      <td>0</td>\n",
       "      <td>0.9</td>\n",
       "      <td>8.2</td>\n",
       "      <td>2016-08-13T14:00:00Z</td>\n",
       "      <td>15</td>\n",
       "      <td>17</td>\n",
       "      <td>Spurs</td>\n",
       "      <td>0</td>\n",
       "      <td>0</td>\n",
       "      <td>0</td>\n",
       "      <td>0</td>\n",
       "      <td>1</td>\n",
       "      <td>0</td>\n",
       "      <td>13918</td>\n",
       "      <td>1.0</td>\n",
       "      <td>1.0</td>\n",
       "      <td>0.0</td>\n",
       "      <td>1</td>\n",
       "      <td>0</td>\n",
       "      <td>0</td>\n",
       "      <td>0</td>\n",
       "      <td>60</td>\n",
       "      <td>True</td>\n",
       "      <td>0</td>\n",
       "      <td>1</td>\n",
       "    </tr>\n",
       "    <tr>\n",
       "      <th>2</th>\n",
       "      <td>2016-17</td>\n",
       "      <td>Aaron Ramsey</td>\n",
       "      <td>MID</td>\n",
       "      <td>NaN</td>\n",
       "      <td>0</td>\n",
       "      <td>0</td>\n",
       "      <td>5</td>\n",
       "      <td>0</td>\n",
       "      <td>4.9</td>\n",
       "      <td>16</td>\n",
       "      <td>8</td>\n",
       "      <td>3</td>\n",
       "      <td>0</td>\n",
       "      <td>3.0</td>\n",
       "      <td>2.2</td>\n",
       "      <td>2016-08-14T15:00:00Z</td>\n",
       "      <td>60</td>\n",
       "      <td>9</td>\n",
       "      <td>Liverpool</td>\n",
       "      <td>0</td>\n",
       "      <td>0</td>\n",
       "      <td>0</td>\n",
       "      <td>0</td>\n",
       "      <td>1</td>\n",
       "      <td>0</td>\n",
       "      <td>163170</td>\n",
       "      <td>4.0</td>\n",
       "      <td>3.0</td>\n",
       "      <td>23.0</td>\n",
       "      <td>2</td>\n",
       "      <td>0</td>\n",
       "      <td>0</td>\n",
       "      <td>0</td>\n",
       "      <td>80</td>\n",
       "      <td>True</td>\n",
       "      <td>0</td>\n",
       "      <td>1</td>\n",
       "    </tr>\n",
       "    <tr>\n",
       "      <th>3</th>\n",
       "      <td>2016-17</td>\n",
       "      <td>Abdoulaye Doucouré</td>\n",
       "      <td>MID</td>\n",
       "      <td>NaN</td>\n",
       "      <td>0</td>\n",
       "      <td>0</td>\n",
       "      <td>0</td>\n",
       "      <td>0</td>\n",
       "      <td>0.0</td>\n",
       "      <td>482</td>\n",
       "      <td>7</td>\n",
       "      <td>0</td>\n",
       "      <td>0</td>\n",
       "      <td>0.0</td>\n",
       "      <td>0.0</td>\n",
       "      <td>2016-08-13T14:00:00Z</td>\n",
       "      <td>0</td>\n",
       "      <td>13</td>\n",
       "      <td>Southampton</td>\n",
       "      <td>0</td>\n",
       "      <td>0</td>\n",
       "      <td>0</td>\n",
       "      <td>0</td>\n",
       "      <td>1</td>\n",
       "      <td>0</td>\n",
       "      <td>1051</td>\n",
       "      <td>1.0</td>\n",
       "      <td>1.0</td>\n",
       "      <td>0.0</td>\n",
       "      <td>0</td>\n",
       "      <td>0</td>\n",
       "      <td>0</td>\n",
       "      <td>0</td>\n",
       "      <td>50</td>\n",
       "      <td>False</td>\n",
       "      <td>0</td>\n",
       "      <td>1</td>\n",
       "    </tr>\n",
       "    <tr>\n",
       "      <th>4</th>\n",
       "      <td>2016-17</td>\n",
       "      <td>Adam Forshaw</td>\n",
       "      <td>MID</td>\n",
       "      <td>NaN</td>\n",
       "      <td>0</td>\n",
       "      <td>0</td>\n",
       "      <td>3</td>\n",
       "      <td>0</td>\n",
       "      <td>1.3</td>\n",
       "      <td>286</td>\n",
       "      <td>6</td>\n",
       "      <td>1</td>\n",
       "      <td>0</td>\n",
       "      <td>0.3</td>\n",
       "      <td>2.0</td>\n",
       "      <td>2016-08-13T14:00:00Z</td>\n",
       "      <td>69</td>\n",
       "      <td>14</td>\n",
       "      <td>Stoke</td>\n",
       "      <td>0</td>\n",
       "      <td>0</td>\n",
       "      <td>0</td>\n",
       "      <td>0</td>\n",
       "      <td>1</td>\n",
       "      <td>0</td>\n",
       "      <td>2723</td>\n",
       "      <td>1.0</td>\n",
       "      <td>1.0</td>\n",
       "      <td>0.0</td>\n",
       "      <td>1</td>\n",
       "      <td>0</td>\n",
       "      <td>0</td>\n",
       "      <td>0</td>\n",
       "      <td>45</td>\n",
       "      <td>True</td>\n",
       "      <td>1</td>\n",
       "      <td>1</td>\n",
       "    </tr>\n",
       "  </tbody>\n",
       "</table>\n",
       "</div>"
      ],
      "text/plain": [
       "  season_x                name position team_x  assists  bonus  bps  \\\n",
       "0  2016-17     Aaron Cresswell      DEF    NaN        0      0    0   \n",
       "1  2016-17        Aaron Lennon      MID    NaN        0      0    6   \n",
       "2  2016-17        Aaron Ramsey      MID    NaN        0      0    5   \n",
       "3  2016-17  Abdoulaye Doucouré      MID    NaN        0      0    0   \n",
       "4  2016-17        Adam Forshaw      MID    NaN        0      0    3   \n",
       "\n",
       "   clean_sheets  creativity  element  fixture  goals_conceded  goals_scored  \\\n",
       "0             0         0.0      454       10               0             0   \n",
       "1             0         0.3      142        3               0             0   \n",
       "2             0         4.9       16        8               3             0   \n",
       "3             0         0.0      482        7               0             0   \n",
       "4             0         1.3      286        6               1             0   \n",
       "\n",
       "   ict_index  influence          kickoff_time  minutes  opponent_team  \\\n",
       "0        0.0        0.0  2016-08-15T19:00:00Z        0              4   \n",
       "1        0.9        8.2  2016-08-13T14:00:00Z       15             17   \n",
       "2        3.0        2.2  2016-08-14T15:00:00Z       60              9   \n",
       "3        0.0        0.0  2016-08-13T14:00:00Z        0             13   \n",
       "4        0.3        2.0  2016-08-13T14:00:00Z       69             14   \n",
       "\n",
       "  opp_team_name  own_goals  penalties_missed  penalties_saved  red_cards  \\\n",
       "0       Chelsea          0                 0                0          0   \n",
       "1         Spurs          0                 0                0          0   \n",
       "2     Liverpool          0                 0                0          0   \n",
       "3   Southampton          0                 0                0          0   \n",
       "4         Stoke          0                 0                0          0   \n",
       "\n",
       "   round  saves  selected  team_a_score  team_h_score  threat  total_points  \\\n",
       "0      1      0     14023           1.0           2.0     0.0             0   \n",
       "1      1      0     13918           1.0           1.0     0.0             1   \n",
       "2      1      0    163170           4.0           3.0    23.0             2   \n",
       "3      1      0      1051           1.0           1.0     0.0             0   \n",
       "4      1      0      2723           1.0           1.0     0.0             1   \n",
       "\n",
       "   transfers_balance  transfers_in  transfers_out  value  was_home  \\\n",
       "0                  0             0              0     55     False   \n",
       "1                  0             0              0     60      True   \n",
       "2                  0             0              0     80      True   \n",
       "3                  0             0              0     50     False   \n",
       "4                  0             0              0     45      True   \n",
       "\n",
       "   yellow_cards  GW  \n",
       "0             0   1  \n",
       "1             0   1  \n",
       "2             0   1  \n",
       "3             0   1  \n",
       "4             1   1  "
      ]
     },
     "execution_count": 95,
     "metadata": {},
     "output_type": "execute_result"
    }
   ],
   "source": [
    "pd.set_option('display.max_columns', None)\n",
    "fpl.head ()"
   ]
  },
  {
   "cell_type": "code",
   "execution_count": 96,
   "metadata": {},
   "outputs": [
    {
     "data": {
      "text/plain": [
       "Index(['season_x', 'name', 'position', 'team_x', 'assists', 'bonus', 'bps',\n",
       "       'clean_sheets', 'creativity', 'element', 'fixture', 'goals_conceded',\n",
       "       'goals_scored', 'ict_index', 'influence', 'kickoff_time', 'minutes',\n",
       "       'opponent_team', 'opp_team_name', 'own_goals', 'penalties_missed',\n",
       "       'penalties_saved', 'red_cards', 'round', 'saves', 'selected',\n",
       "       'team_a_score', 'team_h_score', 'threat', 'total_points',\n",
       "       'transfers_balance', 'transfers_in', 'transfers_out', 'value',\n",
       "       'was_home', 'yellow_cards', 'GW'],\n",
       "      dtype='object')"
      ]
     },
     "execution_count": 96,
     "metadata": {},
     "output_type": "execute_result"
    }
   ],
   "source": [
    "fpl.columns"
   ]
  },
  {
   "cell_type": "markdown",
   "metadata": {},
   "source": [
    "1. Correlation of FPL points vs. Actual PL points"
   ]
  },
  {
   "cell_type": "code",
   "execution_count": 97,
   "metadata": {},
   "outputs": [],
   "source": [
    "szn_22 = fpl [fpl['season_x']==\"2021-22\"]"
   ]
  },
  {
   "cell_type": "code",
   "execution_count": 98,
   "metadata": {},
   "outputs": [
    {
     "name": "stdout",
     "output_type": "stream",
     "text": [
      "{'Brentford', 'Norwich', 'Spurs', 'West Ham', 'Watford', 'Man Utd', 'Man City', 'Brighton', 'Leicester', 'Wolves', 'Burnley', 'Arsenal', 'Everton', 'Newcastle', 'Leeds', 'Chelsea', 'Aston Villa', 'Southampton', 'Crystal Palace', 'Liverpool'}\n"
     ]
    }
   ],
   "source": [
    "teams = set ()\n",
    "for team in szn_22['team_x']:\n",
    "    teams.add (team)\n",
    "\n",
    "print (teams)"
   ]
  },
  {
   "cell_type": "code",
   "execution_count": 99,
   "metadata": {},
   "outputs": [],
   "source": [
    "szn_22_rankings = pd.read_csv (r\"C:\\Users\\Bryant Xia\\Desktop\\ML_FPL\\21_22ranking.csv\")"
   ]
  },
  {
   "cell_type": "code",
   "execution_count": 100,
   "metadata": {},
   "outputs": [],
   "source": [
    "club_to_pts = dict ()\n",
    "for i in range (20):\n",
    "    club_to_pts [szn_22_rankings['Club'][i]] = szn_22_rankings ['P'][i]"
   ]
  },
  {
   "cell_type": "code",
   "execution_count": 101,
   "metadata": {},
   "outputs": [],
   "source": [
    "annotations = []\n",
    "prem_points = []\n",
    "fpl_points = []\n",
    "\n",
    "for team in teams:\n",
    "    team_stats = szn_22[szn_22['team_x']==team]\n",
    "    team_points = team_stats['total_points'].sum ()\n",
    "    annotations.append (team)\n",
    "    prem_points.append (club_to_pts[team])\n",
    "    fpl_points.append (team_points)"
   ]
  },
  {
   "cell_type": "code",
   "execution_count": 104,
   "metadata": {},
   "outputs": [
    {
     "data": {
      "image/png": "[encoded data removed]",
      "text/plain": [
       "<Figure size 600x400 with 1 Axes>"
      ]
     },
     "metadata": {
      "needs_background": "light"
     },
     "output_type": "display_data"
    }
   ],
   "source": [
    "plt.figure (dpi=100)\n",
    "plt.ylabel (\"FPL Points\")\n",
    "plt.xlabel (\"Premier League Points\")\n",
    "plt.scatter (prem_points, fpl_points, marker=\".\")\n",
    "for i in range(20):\n",
    "    plt.annotate(annotations[i], (prem_points[i], fpl_points[i] + 0.5), fontsize=8)"
   ]
  },
  {
   "cell_type": "code",
   "execution_count": 108,
   "metadata": {},
   "outputs": [
    {
     "data": {
      "text/plain": [
       "0.9062273534314477"
      ]
     },
     "execution_count": 108,
     "metadata": {},
     "output_type": "execute_result"
    }
   ],
   "source": [
    "R_squared (prem_points, fpl_points)"
   ]
  },
  {
   "cell_type": "markdown",
   "metadata": {},
   "source": [
    "* Strong correlation\n",
    "* Clear at the top level, though several teams rank higher in terms of total FPL points than actual PL points\n",
    "* To be expected bc. FPL favor more goals, etc. --> does not translate one-to-one with wins"
   ]
  },
  {
   "cell_type": "markdown",
   "metadata": {},
   "source": [
    "2. Cost vs. Returns"
   ]
  },
  {
   "cell_type": "code",
   "execution_count": 158,
   "metadata": {},
   "outputs": [
    {
     "data": {
      "image/png": "[encoded data removed]",
      "text/plain": [
       "<Figure size 600x400 with 1 Axes>"
      ]
     },
     "metadata": {
      "needs_background": "light"
     },
     "output_type": "display_data"
    }
   ],
   "source": [
    "costs_benefits = fpl.groupby ('value')['total_points'].mean ()\n",
    "costs = list (costs_benefits.index)\n",
    "benefits = list (costs_benefits)\n",
    "plot_scatter (\"cost\", \"avg. FPL points\", \"cost vs returns\", costs, benefits, lbf=True, color=\"black\", lbfcolor=\"teal\")"
   ]
  },
  {
   "cell_type": "code",
   "execution_count": 159,
   "metadata": {},
   "outputs": [
    {
     "data": {
      "text/plain": [
       "0.7841322995939496"
      ]
     },
     "execution_count": 159,
     "metadata": {},
     "output_type": "execute_result"
    }
   ],
   "source": [
    "R_squared (costs, benefits)"
   ]
  },
  {
   "cell_type": "markdown",
   "metadata": {},
   "source": [
    "* Fairly strong linear correlation of FPL points vs. cost, though there is a lot of fluctuation at the high level"
   ]
  },
  {
   "cell_type": "markdown",
   "metadata": {},
   "source": [
    "3. Top performers "
   ]
  },
  {
   "cell_type": "code",
   "execution_count": 165,
   "metadata": {},
   "outputs": [
    {
     "name": "stdout",
     "output_type": "stream",
     "text": [
      "Mohamed Salah 1291\n",
      "Harry Kane 1186\n",
      "Heung-Min Son 1163\n",
      "Raheem Sterling 1133\n",
      "Sadio Mané 1114\n",
      "Kevin De Bruyne 1053\n",
      "Jamie Vardy 1033\n",
      "Andrew Robertson 925\n",
      "Roberto Firmino 877\n",
      "Riyad Mahrez 869\n",
      "Trent Alexander-Arnold 854\n",
      "Hugo Lloris 832\n",
      "Hugo Lloris 832\n",
      "Wilfried Zaha 828\n",
      "Marcos Alonso 779\n"
     ]
    }
   ],
   "source": [
    "players_points = fpl.groupby ('name')['total_points'].sum ()\n",
    "players = players_points.index\n",
    "points = list (players_points)\n",
    "temp = {points[i]: players[i] for i in range(len(players))}\n",
    "points = sorted (points) [::-1]\n",
    "for i in range (10):\n",
    "    print (temp[points[i]], points[i])"
   ]
  }
 ],
 "metadata": {
  "kernelspec": {
   "display_name": "Python 3.10.1 64-bit",
   "language": "python",
   "name": "python3"
  },
  "language_info": {
   "codemirror_mode": {
    "name": "ipython",
    "version": 3
   },
   "file_extension": ".py",
   "mimetype": "text/x-python",
   "name": "python",
   "nbconvert_exporter": "python",
   "pygments_lexer": "ipython3",
   "version": "3.10.1"
  },
  "orig_nbformat": 4,
  "vscode": {
   "interpreter": {
    "hash": "369f2c481f4da34e4445cda3fffd2e751bd1c4d706f27375911949ba6bb62e1c"
   }
  }
 },
 "nbformat": 4,
 "nbformat_minor": 2
}
